{
 "cells": [
  {
   "cell_type": "code",
   "execution_count": 1,
   "metadata": {},
   "outputs": [],
   "source": [
    "PATH = \"./data/wood-defects-parsed/images/val/103500057.jpg\"\n",
    "\n",
    "from PIL import Image\n",
    "\n",
    "Image.open(PATH).show()\n",
    "\n",
    "import json\n",
    "\n",
    "# Get corresponding label file path\n",
    "label_path = PATH.replace(\"images\", \"qwen\").replace(\".jpg\", \".json\")\n",
    "\n",
    "# Read and parse JSON file\n",
    "with open(label_path, 'r') as f:\n",
    "    label_data = json.load(f)\n",
    "\n",
    "# Print the label data in a readable format\n",
    "print(\"Image ID:\", label_data[0][\"id\"])\n",
    "print(\"\\nDefects:\")\n",
    "for defect in label_data[0][\"messages\"][2][\"content\"]:\n",
    "    print(f\"\\nClass: {defect['class_id']}\")\n",
    "    print(\"Bounding box:\")\n",
    "    for coord, val in defect['bounding_box'].items():\n",
    "        print(f\"  {coord}: {val}\")\n",
    "\n",
    "\n"
   ]
  },
  {
   "cell_type": "code",
   "execution_count": 13,
   "metadata": {},
   "outputs": [
    {
     "name": "stdout",
     "output_type": "stream",
     "text": [
      "{'id': '111200009', 'messages': [{'role': 'system', 'content': 'You are a helpful assistant that can detect wood defects in images. You can identify the following defect types:\\n- quartzite: A mineral deposit in the wood\\n- live_knot: A knot from a living branch, typically well-integrated with the wood\\n- marrow: The soft tissue at the center of the tree\\n- resin: Areas where tree sap has accumulated\\n- dead_knot: A knot from a dead branch, usually darker and loose\\n- knot_with_crack: A knot that has developed cracks around it\\n- missing_knot: A hole where a knot has fallen out\\n- crack: A split or fracture in the wood\\n\\nWhen asked about defects, return them in JSON format with each defect having:\\n- class_id: The type of defect (one of the above categories)\\n- bounding_box: The location coordinates normalized between 0 and 1, containing:\\n  - x1: Left coordinate\\n  - y1: Top coordinate \\n  - x2: Right coordinate\\n  - y2: Bottom coordinate\\n  \\nOnly return the JSON format, no other text.'}, {'role': 'user', 'content': [{'type': 'image', 'image': 'file://data/wood-defects-parsed/images/train/111200009.jpg'}, {'type': 'text', 'text': 'What type of defects do you see in this wood? Return the defects and their relative locations in JSON format.'}]}, {'role': 'assistant', 'content': {'type': 'text', 'text': '```json\\n[{\"class_id\": \"crack\", \"bounding_box\": {\"x1\": 0.4903571428571429, \"y1\": 0.384765625, \"x2\": 0.5121428571428571, \"y2\": 0.6904296875}}, {\"class_id\": \"crack\", \"bounding_box\": {\"x1\": 0.4717857142857143, \"y1\": 0.0, \"x2\": 0.5157142857142857, \"y2\": 0.4140625}}, {\"class_id\": \"dead_knot\", \"bounding_box\": {\"x1\": 0.6032142857142857, \"y1\": 0.15234375, \"x2\": 0.705, \"y2\": 0.2822265625}}]\\n```'}}]}\n"
     ]
    }
   ],
   "source": [
    "\n",
    "TRAIN_SET_PATH = \"/home/student/fh-bachelor-thesis/data/wood-defects-parsed/vqa/train.json\"\n",
    "\n",
    "import os\n",
    "from pathlib import Path\n",
    "\n",
    "file = Path(\"./data/wood-defects-parsed/qwen/train.json\")\n",
    "\n",
    "with open(file, \"r\") as f:\n",
    "    d = json.load(f)\n",
    "\n",
    "\n",
    "print(d[0])"
   ]
  }
 ],
 "metadata": {
  "kernelspec": {
   "display_name": "bs-thesis",
   "language": "python",
   "name": "python3"
  },
  "language_info": {
   "codemirror_mode": {
    "name": "ipython",
    "version": 3
   },
   "file_extension": ".py",
   "mimetype": "text/x-python",
   "name": "python",
   "nbconvert_exporter": "python",
   "pygments_lexer": "ipython3",
   "version": "3.13.2"
  }
 },
 "nbformat": 4,
 "nbformat_minor": 2
}
