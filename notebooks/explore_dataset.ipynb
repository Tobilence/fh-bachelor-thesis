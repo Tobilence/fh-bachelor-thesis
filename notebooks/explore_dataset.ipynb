{
 "cells": [
  {
   "cell_type": "code",
   "execution_count": 1,
   "metadata": {},
   "outputs": [
    {
     "ename": "FileNotFoundError",
     "evalue": "[Errno 2] No such file or directory: './data/kaggle-wood-defects/bboxes'",
     "output_type": "error",
     "traceback": [
      "\u001b[31m---------------------------------------------------------------------------\u001b[39m",
      "\u001b[31mFileNotFoundError\u001b[39m                         Traceback (most recent call last)",
      "\u001b[36mCell\u001b[39m\u001b[36m \u001b[39m\u001b[32mIn[1]\u001b[39m\u001b[32m, line 32\u001b[39m\n\u001b[32m     28\u001b[39m     \u001b[38;5;28;01mreturn\u001b[39;00m class_counts, n_bbox_counts\n\u001b[32m     31\u001b[39m labels_directory = \u001b[33mf\u001b[39m\u001b[33m\"\u001b[39m\u001b[38;5;132;01m{\u001b[39;00mDATA_DIR\u001b[38;5;132;01m}\u001b[39;00m\u001b[33m/bboxes\u001b[39m\u001b[33m\"\u001b[39m  \n\u001b[32m---> \u001b[39m\u001b[32m32\u001b[39m class_counts, n_bbox_counts = \u001b[43mcount_yolo_classes\u001b[49m\u001b[43m(\u001b[49m\u001b[43mlabels_directory\u001b[49m\u001b[43m)\u001b[49m\n\u001b[32m     34\u001b[39m labelcounts = pd.Series(class_counts, name=\u001b[33m\"\u001b[39m\u001b[33mOccurances\u001b[39m\u001b[33m\"\u001b[39m).sort_index()\n\u001b[32m     35\u001b[39m bbox_per_img = pd.Series(n_bbox_counts, name=\u001b[33m\"\u001b[39m\u001b[33mN_BBoxes\u001b[39m\u001b[33m\"\u001b[39m).sort_index()\n",
      "\u001b[36mCell\u001b[39m\u001b[36m \u001b[39m\u001b[32mIn[1]\u001b[39m\u001b[32m, line 13\u001b[39m, in \u001b[36mcount_yolo_classes\u001b[39m\u001b[34m(labels_dir)\u001b[39m\n\u001b[32m     10\u001b[39m n_bbox_counts = Counter()\n\u001b[32m     12\u001b[39m \u001b[38;5;66;03m# Iterate over all label files\u001b[39;00m\n\u001b[32m---> \u001b[39m\u001b[32m13\u001b[39m \u001b[38;5;28;01mfor\u001b[39;00m filename \u001b[38;5;129;01min\u001b[39;00m \u001b[43mos\u001b[49m\u001b[43m.\u001b[49m\u001b[43mlistdir\u001b[49m\u001b[43m(\u001b[49m\u001b[43mlabels_dir\u001b[49m\u001b[43m)\u001b[49m:\n\u001b[32m     14\u001b[39m     \u001b[38;5;28;01mif\u001b[39;00m filename.endswith(\u001b[33m\"\u001b[39m\u001b[33m.txt\u001b[39m\u001b[33m\"\u001b[39m):  \u001b[38;5;66;03m# Ensure only text files are read\u001b[39;00m\n\u001b[32m     15\u001b[39m         file_path = os.path.join(labels_dir, filename)\n",
      "\u001b[31mFileNotFoundError\u001b[39m: [Errno 2] No such file or directory: './data/kaggle-wood-defects/bboxes'"
     ]
    }
   ],
   "source": [
    "import os\n",
    "import pandas as pd\n",
    "from collections import Counter\n",
    "import matplotlib.pyplot as plt\n",
    "\n",
    "DATA_DIR = \"./data/kaggle-wood-defects\"\n",
    "\n",
    "def count_yolo_classes(labels_dir):\n",
    "    class_counts = Counter()\n",
    "    n_bbox_counts = Counter()\n",
    "    \n",
    "    # Iterate over all label files\n",
    "    for filename in os.listdir(labels_dir):\n",
    "        if filename.endswith(\".txt\"):  # Ensure only text files are read\n",
    "            file_path = os.path.join(labels_dir, filename)\n",
    "            with open(file_path, \"r\") as file:\n",
    "                lines = file.readlines()\n",
    "                n_bbox_counts[len(lines)] += 1\n",
    "                if not lines:\n",
    "                    class_counts[\"No labels\"] += 1  # Count empty files\n",
    "                else:\n",
    "                    for line in lines:\n",
    "                        parts = line.strip().split()\n",
    "                        if parts:\n",
    "                            class_id = parts[0]  # First element is class ID\n",
    "                            class_counts[class_id] += 1\n",
    "    \n",
    "    return class_counts, n_bbox_counts\n",
    "\n",
    "\n",
    "labels_directory = f\"{DATA_DIR}/bboxes\"  \n",
    "class_counts, n_bbox_counts = count_yolo_classes(labels_directory)\n",
    "\n",
    "labelcounts = pd.Series(class_counts, name=\"Occurances\").sort_index()\n",
    "bbox_per_img = pd.Series(n_bbox_counts, name=\"N_BBoxes\").sort_index()\n"
   ]
  },
  {
   "cell_type": "code",
   "execution_count": null,
   "metadata": {},
   "outputs": [],
   "source": [
    "df_bbox = bbox_per_img.to_frame()\n",
    "df_bbox.plot.bar(width=1, title=\"Number of Defect Boxes Per Image\")"
   ]
  },
  {
   "cell_type": "code",
   "execution_count": null,
   "metadata": {},
   "outputs": [],
   "source": [
    "labelcounts.plot.bar(title=\"Label Counts\")"
   ]
  },
  {
   "cell_type": "markdown",
   "metadata": {},
   "source": [
    "## Images"
   ]
  },
  {
   "cell_type": "code",
   "execution_count": 15,
   "metadata": {},
   "outputs": [
    {
     "name": "stdout",
     "output_type": "stream",
     "text": [
      "1 0.49875 0.6279296875 0.0425 0.09765625\n"
     ]
    }
   ],
   "source": [
    "DATA_DIR = \"./data/kaggle-wood-defects\"\n",
    "from PIL import Image\n",
    "from dataclasses import dataclass\n",
    "\n",
    "@dataclass\n",
    "class BoundingBoxDetails:\n",
    "    x: int\n",
    "    y: int\n",
    "    width: int\n",
    "    height: int\n",
    "\n",
    "\n",
    "def get_bounding_box_info(image_id):\n",
    "    file_path = os.path.join(DATA_DIR, \"labels-yolo/\") + str(image_id) + \".txt\"\n",
    "    with open(file_path, 'r') as file:\n",
    "        print(file.readlines()[0].strip())\n",
    "\n",
    "def draw_bboxes(image_id):\n",
    "    img_dir = os.path.join(DATA_DIR, \"images/\") + str(image_id) + \".jpg\"\n",
    "    img = Image.open(img_dir)\n",
    "    img.show()\n",
    "\n",
    "# draw_bboxes(99100007)\n",
    "get_bounding_box_info(99100007)"
   ]
  }
 ],
 "metadata": {
  "kernelspec": {
   "display_name": "bs-thesis",
   "language": "python",
   "name": "python3"
  },
  "language_info": {
   "codemirror_mode": {
    "name": "ipython",
    "version": 3
   },
   "file_extension": ".py",
   "mimetype": "text/x-python",
   "name": "python",
   "nbconvert_exporter": "python",
   "pygments_lexer": "ipython3",
   "version": "3.13.2"
  }
 },
 "nbformat": 4,
 "nbformat_minor": 2
}
